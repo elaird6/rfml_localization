{
 "cells": [
  {
   "cell_type": "code",
   "execution_count": null,
   "metadata": {},
   "outputs": [],
   "source": [
    "# default_exp core"
   ]
  },
  {
   "cell_type": "code",
   "execution_count": null,
   "metadata": {},
   "outputs": [
    {
     "name": "stdout",
     "output_type": "stream",
     "text": [
      "The autoreload extension is already loaded. To reload it, use:\n",
      "  %reload_ext autoreload\n"
     ]
    }
   ],
   "source": [
    "#hide\n",
    "%load_ext autoreload\n",
    "%autoreload 2\n",
    "from nbdev.showdoc import *\n",
    "# default_cls_lvl 3"
   ]
  },
  {
   "cell_type": "markdown",
   "metadata": {},
   "source": [
    "# rfml_localization\n",
    ">  Core functions for RF localization which includes kernelizing data.  Requires Sci-Kit Learn and Glmnet for Python"
   ]
  },
  {
   "cell_type": "code",
   "execution_count": null,
   "metadata": {},
   "outputs": [],
   "source": [
    "#export\n",
    "import numpy as np\n",
    "from sklearn.base import BaseEstimator, RegressorMixin\n",
    "from sklearn.utils.validation import check_X_y, check_array, check_is_fitted\n",
    "from sklearn.metrics import pairwise_kernels, mean_squared_error\n",
    "from sklearn.preprocessing import Normalizer\n",
    "from sklearn.linear_model import Lasso\n",
    "import glmnet_python; from glmnet import glmnet; from glmnetPredict import glmnetPredict\n"
   ]
  },
  {
   "cell_type": "code",
   "execution_count": null,
   "metadata": {},
   "outputs": [],
   "source": [
    "#export\n",
    "def HFF_k_matrix(fml = None,\n",
    "                 fm = np.array([]),\n",
    "                 kernel='laplacian',\n",
    "                 num_meas_array = np.array([]), \n",
    "                 varMs = np.array([])\n",
    "                ):\n",
    "    \"\"\" Function to generate a kernelized matrix.  The kernel used \n",
    "    defaults to laplacian (manhattan distance).\n",
    "\n",
    "    ___Parameters___\n",
    "    \n",
    "    \n",
    "    >__fml__ : ndarray of shape (n_examples, n_features)\n",
    "    >- dictionary of reference measurements/observations with format of\n",
    "    >        [num_runs * n_types of measurements]x[measurements/features]\n",
    "    >        \n",
    "    >__fm__ : ndarray of shape (n_examples, n_features), optional\n",
    "    >- set of measurements/observations of same format as fml\n",
    "    >\n",
    "    >__kernel__ : str, default = 'laplacian'\n",
    "    >- This determines kernel - see scikit-learn's pairwise kernels\n",
    "    >    function. Values typically used here are 'rbf' and 'laplacian'\n",
    "    >    with other values including [‘additive_chi2’, ‘chi2’, ‘linear’,\n",
    "    >    ‘poly’, ‘polynomial’, ‘sigmoid’, ‘cosine’]\n",
    "    >\n",
    "    >__num_meas_array__ : ndarray of shape  (n_types of measurements,), default = np.array([])\n",
    "    >- numpy array that provides the number of each type of measurements\n",
    "    >    (112ea TDOA, 16ea RSS, 8ea AoA is np.array([112,16,8])).  Note \n",
    "    >    that if single total number or empty array of measurements \n",
    "    >    then defaults to simply pairwise_kernel for entire dictionary.\n",
    "    >\n",
    "    >__varMs__ : ndarray of shape (n_types of measurements,), default = np.array([])\n",
    "    >- scale factor for kernel/similarity measurement of each \n",
    "    >    measurement type. It can be related to variance of each\n",
    "    >    measurement type.\n",
    "\n",
    "    __Returns__\n",
    "    \n",
    "    >returns a kernel matrix (k_matrix)\n",
    "    \"\"\"\n",
    "    #initialize some values and check entries\n",
    "    if (np.size(num_meas_array) != np.size(varMs)):\n",
    "        raise ValueError(\"Number of scales,{:d}, doesn't match number of feature types, {:d}\".format(np.size(num_meas_array),np.size(varMs)))\n",
    "    #check to see if 'new' measurements, if not, use reference measurements only\n",
    "    if fm.size == 0:\n",
    "        fm = fml\n",
    "    #if number of measurements is not passed, then only one type of measurements\n",
    "    if num_meas_array.size == 0:\n",
    "        num_meas_array = np.array([np.size(fml.shape[1])])\n",
    "    #if none passed, set all scales to one\n",
    "    if varMs.size == 0:\n",
    "        varMs = np.ones(num_meas_array.size)\n",
    "    \n",
    "    #basic parameter settings\n",
    "    num_features = len(num_meas_array);\n",
    "            \n",
    "    idx = np.cumsum(num_meas_array)\n",
    "\n",
    "    #calculate kernel matrix\n",
    "    #calculate kernel matrix for first measurement type\n",
    "    k_matrix = pairwise_kernels(fm[:,0:idx[0]],fml[:,0:idx[0]],\n",
    "                               metric = kernel,\n",
    "                               gamma = varMs[0])\n",
    "    #loop through rest of measurement types, calculate kernels and concatenate them\n",
    "    for m in np.arange(num_features-1):\n",
    "        k_matrix = np.hstack((k_matrix, pairwise_kernels(fm[:,idx[m]:idx[m+1]],fml[:,idx[m]:idx[m+1]],\n",
    "                               metric = kernel,\n",
    "                               gamma = varMs[m+1])\n",
    "                             ))\n",
    "    return k_matrix"
   ]
  },
  {
   "cell_type": "markdown",
   "metadata": {},
   "source": [
    "---\n",
    "**HFF_k_matrix Examples**\n",
    "\n",
    "Using `RFsimulation`, generate a set of locations and associated TDoA measurements.  The measurements will be kernelized using `HFF_k_matrix`.\n"
   ]
  },
  {
   "cell_type": "code",
   "execution_count": null,
   "metadata": {},
   "outputs": [
    {
     "name": "stdout",
     "output_type": "stream",
     "text": [
      "Shape of original measurements: (10000, 15)\n",
      "Shape of kernelized measurements: (10000, 10000)\n",
      "Shape of kernelized measurement X: (10000, 10000)\n",
      " \n",
      "First initial values using TDoA function:   \n",
      " [1.00e+00 1.48e-15 1.92e-17 5.83e-01 8.18e-02 2.80e-05 1.70e-09 4.31e-02]\n",
      "First initial values using X_model function:\n",
      " [1.00e+00 1.48e-15 1.92e-17 5.83e-01 8.18e-02 2.80e-05 1.70e-09 4.31e-02]\n"
     ]
    }
   ],
   "source": [
    "import RFML_localization.RFsimulation as RFsim\n",
    "np.set_printoptions(precision=2)\n",
    "\n",
    "#generate channel scenario using default channel parameters\n",
    "RFchannel_scenario1 = RFsim.RFchannel()\n",
    "\n",
    "#from channel scenario, generate locations for Tx and Rx and set of location observations\n",
    "RFchannel_scenario1.generate_RxTxlocations(n_rx=6, n_runs=10000, rxtx_flag=3)\n",
    "\n",
    "#create a set of TDoA measurements then kernelize (set seed to set random)\n",
    "RFchannel_scenario1.calculate_Rxxdelay(seed=10)\n",
    "tdoa_kern = HFF_k_matrix(fml=RFchannel_scenario1.rxx_delay)\n",
    "\n",
    "#create same set of of TDoA measurements using different method (same seed)\n",
    "RFchannel_scenario1.generate_Xmodel(meas_flag=0, seed=10)\n",
    "tdoa_kernX = HFF_k_matrix(RFchannel_scenario1.X_model)\n",
    "\n",
    "print(\"Shape of original measurements:\", RFchannel_scenario1.rxx_delay.shape)\n",
    "print(\"Shape of kernelized measurements:\", tdoa_kern.shape)\n",
    "print(\"Shape of kernelized measurement X:\", tdoa_kern.shape)\n",
    "print(\" \")\n",
    "print(\"First initial values using TDoA function:   \\n\",tdoa_kern[0,0:8])\n",
    "print(\"First initial values using X_model function:\\n\",tdoa_kernX[0,0:8])"
   ]
  },
  {
   "cell_type": "code",
   "execution_count": null,
   "metadata": {},
   "outputs": [],
   "source": [
    "#export\n",
    "class sklearn_kt_regressor(BaseEstimator):\n",
    "    \"\"\"\n",
    "    This is kernel trick regressor model class based on Sci-Kit Learn's\n",
    "    base estimator class. Estimator wraps any passed SKLearn model along\n",
    "    with kernel parameters which allows leveraging SKLearn tools and \n",
    "    methods for optimizing and tuning kernel trick models.\n",
    "    \n",
    "    __Parameters__\n",
    "    \n",
    "    >__skl_model__ : SKLearn estimator object, default = Lasso()\n",
    "    >- Typical models used are Ridge() and Lasso() for regression\n",
    "    >\n",
    "    >__skl_kernel__ : str, default = 'laplacian'\n",
    "    >- This determines kernel used in kernel trick - see scikit-learn's \n",
    "    > pairwise kernels function. Values typically used here are 'rbf' \n",
    "    > and 'laplacian' with other values including [‘additive_chi2’,\n",
    "    > ‘chi2’, ‘linear’, ‘poly’, ‘polynomial’, ‘sigmoid’, ‘cosine’]    \n",
    "    >\n",
    "    >__n_kernels__ : integer, default = 1\n",
    "    >- Number of kenerls concatenated together in kernel trick\n",
    "    >\n",
    "    >__kernel_s1-s3__ : float, default = 1e-3, None, None\n",
    "    >- Kernel scales applied to each of the `skl_kernel`s.  The total \n",
    "    > number of kernels deteremined by `kernel_scales`\n",
    "    >\n",
    "    >__n_meas_array__ : integer ndarray, default = np.array([])\n",
    "    >- ndarray that provides the number of each type of measurements\n",
    "    >    (112ea TDOA, 16ea RSS, 8ea AoA is np.array([112,16,8])).  Note \n",
    "    >    that if one measurement then defaults to simply pairwise_kernel \n",
    "    >    for entire dictionary.\n",
    "    \"\"\"\n",
    "\n",
    "    def __init__(self, skl_model=Lasso(), skl_kernel='laplacian', n_kernels=1,\n",
    "                 kernel_s0 = 1e-3, kernel_s1 = None, kernel_s2 = None, \n",
    "                 n_meas_array=np.array([])):\n",
    "        self.skl_model = skl_model\n",
    "        self.skl_kernel = skl_kernel\n",
    "        self.n_kernels = n_kernels\n",
    "        self.kernel_s0 = kernel_s0\n",
    "        self.kernel_s1 = kernel_s1\n",
    "        self.kernel_s2 = kernel_s2\n",
    "        self.n_meas_array = n_meas_array\n",
    "\n",
    "    def fit(self, X, y):\n",
    "        \"\"\"\n",
    "        Kernelizes passed data and then fits data according to passed\n",
    "        model.  Function inherits all attributes and features of\n",
    "        SKLearn's base esimator class as well as passed model.\n",
    "        \n",
    "        __Parameters__\n",
    "        \n",
    "        > __X__ : ndarray of shape (n_samples, n_features)\n",
    "        >- Training data\n",
    "        >\n",
    "        > __y__ : ndarray of shape (n_samples, spatial dimensions)\n",
    "        >- Response data (location of Tx for each sample set\n",
    "        >  of measurements)\n",
    "        \n",
    "        __Returns__\n",
    "        \n",
    "        > Self, sets self.X_, self.Y_\n",
    "        \n",
    "        \"\"\"\n",
    "\n",
    "        # Check that X and y have correct shape\n",
    "        X, y = check_X_y(X, y, multi_output=True)\n",
    "        # Check that number of kernels and number of kernel scales is same\n",
    "        if self.n_kernels != len(self.n_meas_array): \n",
    "            raise ValueError(\"n_kernels is not same as number of n_meas_array\")\n",
    "        # Check that number of each measurement types is correct\n",
    "        if sum(self.n_meas_array) != X.shape[1]:\n",
    "            raise ValueError(\"Sum of n_meas_array is not same as number of features in X\")\n",
    "            \n",
    "        #put kernel scales together (reset in case called multiple times)\n",
    "        kernel_scales = np.array([self.kernel_s0])\n",
    "        for i in range(1,self.n_kernels): \n",
    "            kernel_scales = np.append(kernel_scales,self.get_params()[\"kernel_s\"+str(i)])\n",
    "            \n",
    "        # Generate kernelized matrix for fit input\n",
    "        X_kernel = HFF_k_matrix(fml=X, kernel=self.skl_kernel, \n",
    "                                num_meas_array=self.n_meas_array, \n",
    "                                varMs=kernel_scales)\n",
    "        #normalize\n",
    "        X_kernel = Normalizer().fit_transform(X_kernel)\n",
    "        \n",
    "        # Fit\n",
    "        self.skl_model.fit(X_kernel, y)\n",
    "        \n",
    "        # Store X,y seen during fit\n",
    "        self.X_ = X\n",
    "        self.y_ = y\n",
    "        \n",
    "        # Return the regressor\n",
    "        return self\n",
    "\n",
    "    def predict(self, X):\n",
    "        \"\"\"\n",
    "        Applies pair-wise kernel between observed with fitted data.  The\n",
    "        predicts based on fitted model.\n",
    "        \n",
    "        __Parameters__\n",
    "        \n",
    "        > __X__ : ndarray of shape (n_samples, n_features)\n",
    "        >- Sample data used for predictions\n",
    "        >\n",
    "        \n",
    "        __Returns__\n",
    "        \n",
    "        > Estimated target(s)\n",
    "        \n",
    "        \"\"\"\n",
    "\n",
    "        # Check is fit had been called\n",
    "        check_is_fitted(self)\n",
    "\n",
    "        # Input validation\n",
    "        X = check_array(X)\n",
    "        \n",
    "        #put kernel scales together (reset in case called multiple times)\n",
    "        kernel_scales = np.array([self.kernel_s0])\n",
    "        for i in range(1,self.n_kernels): \n",
    "            kernel_scales = np.append(kernel_scales,self.get_params()[\"kernel_s\"+str(i)])\n",
    "            \n",
    "        #kernelize input\n",
    "        X_kernel = HFF_k_matrix(fml=self.X_, fm=X,\n",
    "                        kernel=self.skl_kernel, \n",
    "                        num_meas_array=self.n_meas_array, \n",
    "                        varMs=kernel_scales)\n",
    "        #normalize\n",
    "        X_kernel = Normalizer().fit_transform(X_kernel)\n",
    "\n",
    "        #predict and return\n",
    "        return self.skl_model.predict(X_kernel)"
   ]
  },
  {
   "cell_type": "markdown",
   "metadata": {},
   "source": [
    "---\n",
    "**sklearn_kt_regressor Examples**\n",
    "\n",
    "Show basic usage of model."
   ]
  },
  {
   "cell_type": "code",
   "execution_count": null,
   "metadata": {},
   "outputs": [],
   "source": [
    "import RFML_localization.RFsimulation as RFsim\n",
    "from sklearn.model_selection import train_test_split\n",
    "from sklearn.linear_model import Ridge, Lasso\n",
    "\n",
    "#generate channel scenario using default channel parameters\n",
    "RFchannel_scenario1 = RFsim.RFchannel()\n",
    "\n",
    "#from channel scenario, generate locations for Tx and Rx and set of location observations\n",
    "RFchannel_scenario1.generate_RxTxlocations(n_rx=6, n_runs=10000, rxtx_flag=3)\n",
    "#generate set of measurements based on each location observations\n",
    "RFchannel_scenario1.generate_Xmodel()\n",
    "\n",
    "#assign features and response, then split into test/train\n",
    "X=RFchannel_scenario1.X_model\n",
    "y=RFchannel_scenario1.rxtx_locs[:,0,:].transpose()\n",
    "X_train, X_test, y_train, y_test = train_test_split(X, y, test_size=0.33)\n"
   ]
  },
  {
   "cell_type": "markdown",
   "metadata": {},
   "source": [
    "After generating locations, import SKLearn models for regression.  Use the kernel trick function to wrap the SKLearn model and kernelized matrix into a single interface to enable use of SKLearn hyper-tuning tools."
   ]
  },
  {
   "cell_type": "code",
   "execution_count": null,
   "metadata": {},
   "outputs": [
    {
     "name": "stdout",
     "output_type": "stream",
     "text": [
      "{'kernel_s0': 1.13e-06, 'kernel_s1': 0.00207, 'kernel_s2': 10.0, 'n_kernels': 3, 'n_meas_array': array([15,  6,  6]), 'skl_kernel': 'rbf', 'skl_model__alpha': 1.83e-06, 'skl_model__copy_X': True, 'skl_model__fit_intercept': True, 'skl_model__max_iter': None, 'skl_model__normalize': False, 'skl_model__random_state': None, 'skl_model__solver': 'auto', 'skl_model__tol': 0.001, 'skl_model': Ridge(alpha=1.83e-06)}\n"
     ]
    }
   ],
   "source": [
    "#based on knowledge of measurement, can derive from class instance\n",
    "#variables (shape[1] of rxx_delay_, rxx_rss_, rxx_aoa_)\n",
    "num_meas_array = np.array([15,6,6]) \n",
    "kernel_s0, kernel_s1, kernel_s2 = np.array([1.13e-06, 2.07e-03, 10])\n",
    "\n",
    "#create estimator model\n",
    "kt_model = sklearn_kt_regressor(skl_model = Ridge(), skl_kernel = 'rbf', \n",
    "                                n_kernels = 3, kernel_s0 = kernel_s0, kernel_s1 = kernel_s1, \n",
    "                                kernel_s2 = kernel_s2, n_meas_array=num_meas_array)\n",
    "\n",
    "#show methods inherited from SKLearn which are useful\n",
    "kt_model.set_params(skl_model__alpha = 1.83e-06)\n",
    "print(kt_model.get_params())"
   ]
  },
  {
   "cell_type": "code",
   "execution_count": null,
   "metadata": {},
   "outputs": [
    {
     "data": {
      "text/markdown": [
       "<h4 id=\"sklearn_kt_regressor.fit\" class=\"doc_header\"><code>sklearn_kt_regressor.fit</code><a href=\"__main__.py#L45\" class=\"source_link\" style=\"float:right\">[source]</a></h4>\n",
       "\n",
       "> <code>sklearn_kt_regressor.fit</code>(**`X`**, **`y`**)\n",
       "\n",
       "Kernelizes passed data and then fits data according to passed\n",
       "model.  Function inherits all attributes and features of\n",
       "SKLearn's base esimator class as well as passed model.\n",
       "\n",
       "__Parameters__\n",
       "\n",
       "> __X__ : ndarray of shape (n_samples, n_features)\n",
       ">- Training data\n",
       ">\n",
       "> __y__ : ndarray of shape (n_samples, spatial dimensions)\n",
       ">- Response data (location of Tx for each sample set\n",
       ">  of measurements)\n",
       "\n",
       "__Returns__\n",
       "\n",
       "> Self, sets self.X_, self.Y_"
      ],
      "text/plain": [
       "<IPython.core.display.Markdown object>"
      ]
     },
     "metadata": {},
     "output_type": "display_data"
    }
   ],
   "source": [
    "show_doc(sklearn_kt_regressor.fit)"
   ]
  },
  {
   "cell_type": "markdown",
   "metadata": {},
   "source": [
    "---\n",
    "**sklearn_kt_regressor.fit Examples**\n",
    "\n",
    "Continuing previous example, fit the model."
   ]
  },
  {
   "cell_type": "code",
   "execution_count": null,
   "metadata": {},
   "outputs": [
    {
     "data": {
      "text/plain": [
       "sklearn_kt_regressor(kernel_s0=1.13e-06, kernel_s1=0.00207, kernel_s2=10.0,\n",
       "                     n_kernels=3, n_meas_array=array([15,  6,  6]),\n",
       "                     skl_kernel='rbf', skl_model=Ridge(alpha=1.83e-06))"
      ]
     },
     "execution_count": null,
     "metadata": {},
     "output_type": "execute_result"
    }
   ],
   "source": [
    "kt_model.fit(X_train,y_train)"
   ]
  },
  {
   "cell_type": "code",
   "execution_count": null,
   "metadata": {},
   "outputs": [
    {
     "data": {
      "text/markdown": [
       "<h4 id=\"sklearn_kt_regressor.predict\" class=\"doc_header\"><code>sklearn_kt_regressor.predict</code><a href=\"__main__.py#L97\" class=\"source_link\" style=\"float:right\">[source]</a></h4>\n",
       "\n",
       "> <code>sklearn_kt_regressor.predict</code>(**`X`**)\n",
       "\n",
       "Applies pair-wise kernel between observed with fitted data.  The\n",
       "predicts based on fitted model.\n",
       "\n",
       "__Parameters__\n",
       "\n",
       "> __X__ : ndarray of shape (n_samples, n_features)\n",
       ">- Sample data used for predictions\n",
       ">\n",
       "\n",
       "__Returns__\n",
       "\n",
       "> Estimated target(s)"
      ],
      "text/plain": [
       "<IPython.core.display.Markdown object>"
      ]
     },
     "metadata": {},
     "output_type": "display_data"
    }
   ],
   "source": [
    "show_doc(sklearn_kt_regressor.predict)"
   ]
  },
  {
   "cell_type": "markdown",
   "metadata": {},
   "source": [
    "---\n",
    "**sklearn_kt_regressor.predict Examples**\n",
    "\n",
    "Continuing previous example, predict using the model."
   ]
  },
  {
   "cell_type": "code",
   "execution_count": null,
   "metadata": {},
   "outputs": [
    {
     "name": "stdout",
     "output_type": "stream",
     "text": [
      "Average error for (x,y) location estimation is   9.8 meters\n"
     ]
    }
   ],
   "source": [
    "y_pred = kt_model.predict(X_test)\n",
    "mse = mean_squared_error(y_test,y_pred)\n",
    "#msec = SRU.mse_EucDistance(yV,y_pred)\n",
    "print('Average error for (x,y) location estimation is {:5.2g} meters'.format(mse))"
   ]
  },
  {
   "cell_type": "code",
   "execution_count": null,
   "metadata": {},
   "outputs": [],
   "source": [
    "#export\n",
    "class glmnet_kt_regressor(BaseEstimator):\n",
    "    \"\"\"\n",
    "    This is kernel trick regressor model class based on Sci-Kit Learn's\n",
    "    base estimator class. Estimator wraps a GLMnet model along\n",
    "    with kernel parameters which allows leveraging SKLearn tools and \n",
    "    methods for optimizing and tuning kernel trick models.\n",
    "    \n",
    "    See [Glmnet Vignette](https://glmnet-python.readthedocs.io/en/latest/glmnet_vignette.html)\n",
    "    for indepth information on GLMnet model.\n",
    "    \n",
    "    __Parameters__\n",
    "\n",
    "    >__glm_alpha__ : float, default = 1\n",
    "    >- glmnet elasticnet parameter where \n",
    "    >    - 0 is Ridge regressino\n",
    "    >    - 1 is Lasso\n",
    "    >    - (0,1) is ElasticNet\n",
    "    >\n",
    "    >__lambdau__ : float, default = 1e-3\n",
    "    >- lambda for penalty (aka alpha in SKLearn). Note that this is\n",
    "    > converted to an ndarray internally due GLMnet accepting an\n",
    "    > array of lambda's.  **This is not supported with this wrapper!**\n",
    "    >\n",
    "    >__skl_kernel__ : str, default = 'laplacian'\n",
    "    >- This determines kernel used in kernel trick - see scikit-learn's \n",
    "    > pairwise kernels function. Values typically used here are 'rbf' \n",
    "    > and 'laplacian' with other values including [‘additive_chi2’,\n",
    "    > ‘chi2’, ‘linear’, ‘poly’, ‘polynomial’, ‘sigmoid’, ‘cosine’]    \n",
    "    >\n",
    "    >__n_kernels__ : integer, default = 1\n",
    "    >- Number of kenerls concatenated together in kernel trick\n",
    "    >\n",
    "    >__kernel_scales__ : integer ndarray, default = np.array([])\n",
    "    >- Kernel scales applied to each of the `skl_kernel`.  The total \n",
    "    > number of kernels deteremined by `kernel_scales`\n",
    "    >\n",
    "    >__n_meas_array__ : integer ndarray, default = np.array([])\n",
    "    >- ndarray that provides the number of each type of measurements\n",
    "    >    (112ea TDOA, 16ea RSS, 8ea AoA is np.array([112,16,8])).  Note \n",
    "    >    that if one measurement then defaults to simply pairwise_kernel \n",
    "    >    for entire dictionary.\n",
    "    >\n",
    "    >__glmnet_args__ : dictionary, default = {}\n",
    "    >- parameters for underlying GLMnet object\n",
    "    \"\"\"\n",
    "\n",
    "    def __init__(self, glm_alpha=1, lambdau=1e-3, skl_kernel='laplacian', n_kernels=1,\n",
    "                 kernel_s0 = 1e-3, kernel_s1 = None, kernel_s2 = None,\n",
    "                 n_meas_array=np.array([]), glmnet_args = {}):\n",
    "        self.glm_alpha=glm_alpha\n",
    "        self.lambdau=lambdau\n",
    "        self.skl_kernel = skl_kernel\n",
    "        self.n_kernels = n_kernels\n",
    "        self.kernel_s0 = kernel_s0\n",
    "        self.kernel_s1 = kernel_s1\n",
    "        self.kernel_s2 = kernel_s2\n",
    "        self.n_meas_array = n_meas_array\n",
    "        self.glmnet_args = glmnet_args\n",
    "\n",
    "    def set_glmnet_args(self, glmnet_args):\n",
    "        \"\"\"Enables setting any of glmnet params except alpha and lambdau\n",
    "        initialized in class instance.  For alpha and lambdau, use\n",
    "        inherited set_params().\n",
    "        \n",
    "        __Parameter__\n",
    "        \n",
    "        > __glmnet_args__ : dictionary\n",
    "        >- dictionary of arguments to pass to glmnet\n",
    "        \n",
    "        \"\"\"\n",
    "        \n",
    "        self.glmnet_args={**self.glmnet_args,**glmnet_args}\n",
    "        \n",
    "        return self\n",
    "\n",
    "    def fit(self, X, y):\n",
    "        \"\"\"\n",
    "        Kernelizes passed data and then fits data according to passed\n",
    "        model.  Function inherits all attributes and features of\n",
    "        SKLearn's base esimator class as well as passed model.\n",
    "        \n",
    "        __Parameters__\n",
    "        \n",
    "        > __X__ : ndarray of shape (n_samples, n_features)\n",
    "        >- Training data\n",
    "        >\n",
    "        > __y__ : ndarray of shape (n_samples, spatial dimensions)\n",
    "        >- Response data (location of Tx for each sample set\n",
    "        >  of measurements)\n",
    "        \n",
    "        __Returns__\n",
    "        \n",
    "        > Self, sets self.X_, self.Y_\n",
    "        \n",
    "        \"\"\"\n",
    "\n",
    "        # Check that X and y have correct shape\n",
    "        X, y = check_X_y(X, y, multi_output=True)\n",
    "        # Check that number of kernels and number of kernel scales is same\n",
    "        if self.n_kernels != len(self.n_meas_array): \n",
    "            raise ValueError(\"n_kernels is not same as number of n_meas_array\")\n",
    "        # Check that number of each measurement types is correct\n",
    "        if sum(self.n_meas_array) != X.shape[1]:\n",
    "            raise ValueError(\"Sum of n_meas_array is not same as number of features in X\")\n",
    "            \n",
    "        #put lambdau into ndarray\n",
    "        self.lambdau = np.array([self.lambdau])\n",
    "        #put kernel scales together (reset in case called multiple times)\n",
    "        kernel_scales = np.array([self.kernel_s0])\n",
    "        for i in range(1,self.n_kernels): \n",
    "            kernel_scales = np.append(kernel_scales,self.get_params()[\"kernel_s\"+str(i)])\n",
    "\n",
    "        # Generate kernelized matrix for fit input\n",
    "        X_kernel = HFF_k_matrix(fml=X, kernel=self.skl_kernel, \n",
    "                                num_meas_array=self.n_meas_array, \n",
    "                                varMs=kernel_scales)\n",
    "        #normalize\n",
    "        X_kernel = Normalizer().fit_transform(X_kernel)\n",
    "        \n",
    "        # Fit\n",
    "        self.glmnet_model = glmnet(x = X_kernel, y = y.copy(), alpha = self.glm_alpha,\n",
    "                                     lambdau = self.lambdau, **self.glmnet_args)\n",
    "        \n",
    "        # Store X,y seen during fit\n",
    "        self.X_ = X\n",
    "        self.y_ = y\n",
    "        \n",
    "        # Return the regressor\n",
    "        return self\n",
    "\n",
    "    def predict(self, X):\n",
    "        \"\"\"\n",
    "        Applies pair-wise kernel between observed with fitted data.  The\n",
    "        predicts based on fitted model.\n",
    "        \n",
    "        __Parameters__\n",
    "        \n",
    "        > __X__ : ndarray of shape (n_samples, n_features)\n",
    "        >- Sample data used for predictions\n",
    "        >\n",
    "        \n",
    "        __Returns__\n",
    "        \n",
    "        > Estimated target(s)\n",
    "        \n",
    "        \"\"\"\n",
    "\n",
    "        # Check is fit had been called\n",
    "        check_is_fitted(self)\n",
    "\n",
    "        # Input validation\n",
    "        X = check_array(X)\n",
    "        \n",
    "        #put kernel scales together (reset in case called multiple times)\n",
    "        kernel_scales = np.array([self.kernel_s0])\n",
    "        for i in range(1,self.n_kernels): \n",
    "            kernel_scales = np.append(kernel_scales,self.get_params()[\"kernel_s\"+str(i)])\n",
    "            \n",
    "        #kernelize input\n",
    "        X_kernel = HFF_k_matrix(fml=self.X_, fm=X,\n",
    "                        kernel=self.skl_kernel, \n",
    "                        num_meas_array=self.n_meas_array, \n",
    "                        varMs=kernel_scales)\n",
    "        #normalize\n",
    "        X_kernel = Normalizer().fit_transform(X_kernel)\n",
    "        \n",
    "        #predict and return\n",
    "        #glmnet returns with extra dimension, squeeze to remove\n",
    "        return np.squeeze(glmnetPredict(self.glmnet_model, X_kernel))"
   ]
  },
  {
   "cell_type": "markdown",
   "metadata": {},
   "source": [
    "---\n",
    "**glmnet_kt_regressor Examples**\n",
    "\n",
    "Show basic usage of class"
   ]
  },
  {
   "cell_type": "code",
   "execution_count": null,
   "metadata": {},
   "outputs": [],
   "source": [
    "#based on knowledge of measurement, can derive from class instance\n",
    "#variables (shape[1] of rxx_delay_, rxx_rss_, rxx_aoa_)\n",
    "num_meas_array = np.array([15,6,6]) \n",
    "kernel_scales = np.array([1.13e-06, 2.07e-03, 10])\n",
    "\n",
    "#create estimator model\n",
    "kt_glm_model = glmnet_kt_regressor(glm_alpha=0, lambdau=1e-3, skl_kernel = 'rbf', \n",
    "                                   n_kernels = 3, kernel_s0 = kernel_s0, \n",
    "                                   kernel_s1 = kernel_s1, kernel_s2 = kernel_s2, \n",
    "                                   n_meas_array=num_meas_array, glmnet_args = dict(family='mgaussian', \n",
    "                                   standardize=False))"
   ]
  },
  {
   "cell_type": "code",
   "execution_count": null,
   "metadata": {},
   "outputs": [
    {
     "data": {
      "text/plain": [
       "glmnet_kt_regressor(glm_alpha=0,\n",
       "                    glmnet_args={'family': 'mgaussian', 'standardize': False},\n",
       "                    kernel_s0=1.13e-06, kernel_s1=0.00207, kernel_s2=10.0,\n",
       "                    n_kernels=3, n_meas_array=array([15,  6,  6]),\n",
       "                    skl_kernel='rbf')"
      ]
     },
     "execution_count": null,
     "metadata": {},
     "output_type": "execute_result"
    }
   ],
   "source": [
    "from sklearn.base import clone\n",
    "clone(kt_glm_model)"
   ]
  },
  {
   "cell_type": "code",
   "execution_count": null,
   "metadata": {},
   "outputs": [
    {
     "data": {
      "text/markdown": [
       "<h4 id=\"glmnet_kt_regressor.fit\" class=\"doc_header\"><code>glmnet_kt_regressor.fit</code><a href=\"__main__.py#L77\" class=\"source_link\" style=\"float:right\">[source]</a></h4>\n",
       "\n",
       "> <code>glmnet_kt_regressor.fit</code>(**`X`**, **`y`**)\n",
       "\n",
       "Kernelizes passed data and then fits data according to passed\n",
       "model.  Function inherits all attributes and features of\n",
       "SKLearn's base esimator class as well as passed model.\n",
       "\n",
       "__Parameters__\n",
       "\n",
       "> __X__ : ndarray of shape (n_samples, n_features)\n",
       ">- Training data\n",
       ">\n",
       "> __y__ : ndarray of shape (n_samples, spatial dimensions)\n",
       ">- Response data (location of Tx for each sample set\n",
       ">  of measurements)\n",
       "\n",
       "__Returns__\n",
       "\n",
       "> Self, sets self.X_, self.Y_"
      ],
      "text/plain": [
       "<IPython.core.display.Markdown object>"
      ]
     },
     "metadata": {},
     "output_type": "display_data"
    }
   ],
   "source": [
    "show_doc(glmnet_kt_regressor.fit)"
   ]
  },
  {
   "cell_type": "markdown",
   "metadata": {},
   "source": [
    "---\n",
    "**glmnet_kt_regressor.fit Examples**\n",
    "\n",
    "Continuing previous example, fit the model."
   ]
  },
  {
   "cell_type": "code",
   "execution_count": null,
   "metadata": {},
   "outputs": [
    {
     "data": {
      "text/plain": [
       "glmnet_kt_regressor(glm_alpha=0,\n",
       "                    glmnet_args={'family': 'mgaussian', 'standardize': False},\n",
       "                    kernel_s0=1.13e-06, kernel_s1=0.00207, kernel_s2=10.0,\n",
       "                    lambdau=array([0.]), n_kernels=3,\n",
       "                    n_meas_array=array([15,  6,  6]), skl_kernel='rbf')"
      ]
     },
     "execution_count": null,
     "metadata": {},
     "output_type": "execute_result"
    }
   ],
   "source": [
    "#fit\n",
    "kt_glm_model.fit(X_train,y_train)"
   ]
  },
  {
   "cell_type": "code",
   "execution_count": null,
   "metadata": {},
   "outputs": [
    {
     "data": {
      "text/markdown": [
       "<h4 id=\"glmnet_kt_regressor.predict\" class=\"doc_header\"><code>glmnet_kt_regressor.predict</code><a href=\"__main__.py#L132\" class=\"source_link\" style=\"float:right\">[source]</a></h4>\n",
       "\n",
       "> <code>glmnet_kt_regressor.predict</code>(**`X`**)\n",
       "\n",
       "Applies pair-wise kernel between observed with fitted data.  The\n",
       "predicts based on fitted model.\n",
       "\n",
       "__Parameters__\n",
       "\n",
       "> __X__ : ndarray of shape (n_samples, n_features)\n",
       ">- Sample data used for predictions\n",
       ">\n",
       "\n",
       "__Returns__\n",
       "\n",
       "> Estimated target(s)"
      ],
      "text/plain": [
       "<IPython.core.display.Markdown object>"
      ]
     },
     "metadata": {},
     "output_type": "display_data"
    }
   ],
   "source": [
    "show_doc(glmnet_kt_regressor.predict)"
   ]
  },
  {
   "cell_type": "markdown",
   "metadata": {},
   "source": [
    "---\n",
    "**glmnet_kt_regressor.predict Examples**\n",
    "\n",
    "Continuing previous example, predict using model"
   ]
  },
  {
   "cell_type": "code",
   "execution_count": null,
   "metadata": {},
   "outputs": [
    {
     "name": "stdout",
     "output_type": "stream",
     "text": [
      "Average error for (x,y) location estimation is    22 meters\n"
     ]
    }
   ],
   "source": [
    "#predict\n",
    "y_pred = kt_glm_model.predict(X_test)\n",
    "mse = mean_squared_error(y_test,y_pred)\n",
    "#msec = SRU.mse_EucDistance(yV,y_pred)\n",
    "print('Average error for (x,y) location estimation is {:5.2g} meters'.format(mse))"
   ]
  },
  {
   "cell_type": "code",
   "execution_count": null,
   "metadata": {},
   "outputs": [],
   "source": []
  }
 ],
 "metadata": {
  "kernelspec": {
   "display_name": "Python 3",
   "language": "python",
   "name": "python3"
  }
 },
 "nbformat": 4,
 "nbformat_minor": 4
}
